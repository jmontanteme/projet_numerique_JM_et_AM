{
 "cells": [
  {
   "cell_type": "markdown",
   "metadata": {},
   "source": [
    "# Projet numérique Maths-Info Équations Différentielles\n",
    "## Alex Morais et Juliette Montantème"
   ]
  },
  {
   "cell_type": "markdown",
   "metadata": {},
   "source": [
    "### Question 1 "
   ]
  },
  {
   "cell_type": "code",
   "execution_count": null,
   "metadata": {},
   "outputs": [],
   "source": [
    "import matplotlib.pyplot as plt\n",
    "import math\n",
    "import numpy as np\n"
   ]
  },
  {
   "cell_type": "markdown",
   "metadata": {},
   "source": [
    "Explication de la fonction "
   ]
  },
  {
   "cell_type": "code",
   "execution_count": null,
   "metadata": {},
   "outputs": [],
   "source": [
    "def solve_euler_explicite(f, x0, dt, tf, t0 = 0):\n",
    "    t, x = [t0], [x0]\n",
    "    while t[-1] < tf:\n",
    "        x.append(x[-1] + dt * f(t[-1], x[-1]))\n",
    "        t.append(t[-1] + dt)\n",
    "    return t, x"
   ]
  },
  {
   "cell_type": "code",
   "execution_count": null,
   "metadata": {},
   "outputs": [],
   "source": [
    "t = solve_euler_explicite(f, 1, 0.1, 10)[0]\n",
    "x = solve_euler_explicite(f, 1, 0.1, 10)[1]\n",
    "x2 = np.array([exp(y) for y in t])\n",
    "\n",
    "plt.plot(t, x2, label = \"solution Euler explicite\")\n",
    "plt.plot(t, x, label = \"solution exacte\")\n",
    "plt.legend()\n",
    "plt.show()"
   ]
  },
  {
   "cell_type": "markdown",
   "metadata": {},
   "source": [
    "explication erreur"
   ]
  },
  {
   "cell_type": "code",
   "execution_count": null,
   "metadata": {},
   "outputs": [],
   "source": [
    "def erreur_globale(f, g, x0, dt, tf, t0 = 0):\n",
    "    t, x = solve_euler_explicite(f, x0, dt, tf, t0)\n",
    "    n = len(t)\n",
    "    err = 0\n",
    "    for j in range(n):\n",
    "        if abs(g(t[j]) - x[j]) > err:\n",
    "            err = abs(g(t[j]) - x[j])\n",
    "    return err"
   ]
  },
  {
   "cell_type": "code",
   "execution_count": null,
   "metadata": {},
   "outputs": [],
   "source": [
    "pas = np.linspace(0.001, 0.01, 1000)\n",
    "erreur = erreur_globale(f, exp, 1, 0.1, 10)\n",
    "plt.plot(pas, erreur)\n",
    "plt.show()"
   ]
  },
  {
   "cell_type": "code",
   "execution_count": null,
   "metadata": {},
   "outputs": [],
   "source": [
    "def solve_heun(f, x0, dt, tf, t0 = 0):\n",
    "    t, x = [t0], [x0]\n",
    "    while t[-1] < tf:\n",
    "        t.append(t[-1] + dt)\n",
    "        x.append(x[-1] + dt/2 * (f(t[-2], x[-1]) + f(t[-1], x[-1] + dt * f(t[-2], x[-1])))) \n",
    "    return t, x"
   ]
  },
  {
   "cell_type": "code",
   "execution_count": null,
   "metadata": {},
   "outputs": [],
   "source": [
    "def erreur_globale_heun(f, g, x0, dt, tf, t0 = 0):\n",
    "    t, x = solve_heun(f, x0, dt, tf, t0)\n",
    "    n = len(t)\n",
    "    err = 0\n",
    "    for j in range(n):\n",
    "        if abs(g(t[j]) - x[j]) > err:\n",
    "            err = abs(g(t[j]) - x[j])\n",
    "    return err   \n"
   ]
  },
  {
   "cell_type": "code",
   "execution_count": null,
   "metadata": {},
   "outputs": [],
   "source": [
    "erreur = np.array([erreur_globale_heun(f, exp, 1, dt, 3) for dt in pas])\n",
    "plt.plot(pas**2, erreur)\n",
    "plt.show()"
   ]
  }
 ],
 "metadata": {
  "kernelspec": {
   "display_name": "Python 3",
   "language": "python",
   "name": "python3"
  },
  "language_info": {
   "codemirror_mode": {
    "name": "ipython",
    "version": 3
   },
   "file_extension": ".py",
   "mimetype": "text/x-python",
   "name": "python",
   "nbconvert_exporter": "python",
   "pygments_lexer": "ipython3",
   "version": "3.7.4"
  }
 },
 "nbformat": 4,
 "nbformat_minor": 2
}
